{
  "nbformat": 4,
  "nbformat_minor": 0,
  "metadata": {
    "colab": {
      "provenance": []
    },
    "kernelspec": {
      "name": "python3",
      "display_name": "Python 3"
    },
    "language_info": {
      "name": "python"
    }
  },
  "cells": [
    {
      "cell_type": "code",
      "execution_count": null,
      "metadata": {
        "id": "1VtWf8uder1m"
      },
      "outputs": [],
      "source": [
        "# K-Means Clustering on Retail Customers Dataset\n",
        "\n",
        "import pandas as pd\n",
        "import matplotlib.pyplot as plt\n",
        "from sklearn.cluster import KMeans\n",
        "from sklearn.preprocessing import LabelEncoder\n",
        "\n",
        "# 1️ Load Dataset\n",
        "df = pd.read_csv(\"retail_customers_dataset.csv\")\n",
        "print(\"Dataset Preview:\")\n",
        "print(df.head())\n",
        "\n",
        "# 2️ Preprocessing\n",
        "# Convert Gender into numeric (Male=1, Female=0)\n",
        "le = LabelEncoder()\n",
        "df[\"Gender\"] = le.fit_transform(df[\"Gender\"])\n",
        "\n",
        "# Features for clustering\n",
        "X = df[[\"Age\", \"Annual Income (k$)\", \"Spending Score (1-100)\"]]\n",
        "\n",
        "# 3️ Apply K-Means Clustering\n",
        "# We'll find the optimal number of clusters using the Elbow Method\n",
        "wcss = []  # Within Cluster Sum of Squares\n",
        "\n",
        "for i in range(1, 11):\n",
        "    kmeans = KMeans(n_clusters=i, init=\"k-means++\", random_state=42)\n",
        "    kmeans.fit(X)\n",
        "    wcss.append(kmeans.inertia_)\n",
        "\n",
        "# 4️ Plot Elbow Curve\n",
        "plt.figure(figsize=(8,5))\n",
        "plt.plot(range(1, 11), wcss, marker=\"o\")\n",
        "plt.title(\"Elbow Method for Optimal K\")\n",
        "plt.xlabel(\"Number of Clusters\")\n",
        "plt.ylabel(\"WCSS\")\n",
        "plt.show()\n",
        "\n",
        "# 5️ Train Final K-Means Model (let’s assume K=5 from elbow curve)\n",
        "kmeans = KMeans(n_clusters=5, init=\"k-means++\", random_state=42)\n",
        "df[\"Cluster\"] = kmeans.fit_predict(X)\n",
        "\n",
        "# 6️ Visualize Clusters (Annual Income vs Spending Score)\n",
        "plt.figure(figsize=(8,6))\n",
        "plt.scatter(df[\"Annual Income (k$)\"], df[\"Spending Score (1-100)\"],\n",
        "            c=df[\"Cluster\"], cmap=\"viridis\", s=70)\n",
        "plt.title(\"Customer Segmentation (K-Means Clustering)\")\n",
        "plt.xlabel(\"Annual Income (k$)\")\n",
        "plt.ylabel(\"Spending Score (1–100)\")\n",
        "plt.show()\n",
        "\n",
        "# 7️ View Cluster Summary\n",
        "print(\"\\nCluster Summary:\")\n",
        "print(df.groupby(\"Cluster\").mean(numeric_only=True))\n"
      ]
    }
  ]
}